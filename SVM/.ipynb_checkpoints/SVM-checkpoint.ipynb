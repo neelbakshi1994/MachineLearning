{
 "cells": [
  {
   "cell_type": "code",
   "execution_count": 1,
   "metadata": {
    "collapsed": true
   },
   "outputs": [],
   "source": [
    "import numpy as np\n",
    "import cvxopt\n",
    "\n",
    "class SVM:\n",
    "    def fit(self, X, Y):\n",
    "        #we shall solve our QP problem first\n",
    "        #X.shape -> (num_of_samples, num_of_features)\n",
    "        #X_i.shape -> (num_of_features,)\n",
    "        #Y.shape -> (num_of_samples,)\n",
    "        num_of_samples, num_of_features = X.shape\n",
    "        \n",
    "        #P\n",
    "        kernel_product = np.zeros((num_of_samples, num_of_samples))\n",
    "        for i, feature_i in enumerate(X):\n",
    "            for j, feature_j in enumerate(X):\n",
    "                kernel_product[i,j] = np.dot(feature_i,feature_j)\n",
    "            \n",
    "        #np.outer does the above for loop for y since y is a single dimensional vector\n",
    "        #otherwise wouldnt have used it\n",
    "        P = cvxopt.matrix(np.outer(Y,Y)*kernel_product)\n",
    "        q = cvxopt.matrix(np.ones((num_of_samples, 1)) * -1)\n",
    "        A = cvxopt.matrix(Y.reshape(1,num_of_samples))\n",
    "        b = 0.0\n",
    "        G = cvxopt.matrix(np.diag(np.ones(n_samples) * -1))\n",
    "        h = cvxopt.matrix(np.zeros(n_samples))\n",
    "        \n",
    "        qp_solution = cvxopt.solvers.qp(P, q, G, h, A, b)\n",
    "        \n",
    "        alpha = np.ravel(qp_solution['x'])\n",
    "        \n",
    "        #Now we know that all support vectors have alpha >= 0\n",
    "        valid = alpha > 0\n",
    "        sv_alpha = alpha[sv]\n",
    "        self.sv_x = X[valid]\n",
    "        self.sv_y = Y[valid]\n",
    "        \n",
    "        self.alpha = sv_alpha\n",
    "        \n",
    "        #calculating weight\n",
    "        self.weight = np.sum([a*x*y for a,x,y in zip(alpha, sv_x, sv_y)])\n",
    "        self.bias = sv_y[0] - np.dot(self.weight,sv_x[0])"
   ]
  }
 ],
 "metadata": {
  "kernelspec": {
   "display_name": "Python 2",
   "language": "python",
   "name": "python2"
  },
  "language_info": {
   "codemirror_mode": {
    "name": "ipython",
    "version": 2
   },
   "file_extension": ".py",
   "mimetype": "text/x-python",
   "name": "python",
   "nbconvert_exporter": "python",
   "pygments_lexer": "ipython2",
   "version": "2.7.13"
  }
 },
 "nbformat": 4,
 "nbformat_minor": 2
}
