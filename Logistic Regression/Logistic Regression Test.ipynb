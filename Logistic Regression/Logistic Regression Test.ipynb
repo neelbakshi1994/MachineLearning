{
 "cells": [
  {
   "cell_type": "markdown",
   "metadata": {},
   "source": [
    "# Logistic Regression"
   ]
  },
  {
   "cell_type": "markdown",
   "metadata": {},
   "source": [
    "Logistic Regression is used for binary classification. In this algorithm we are trying to model the probablity of an feature set being classified as Category **A** or Category **B**. Let's say if out hypothesis return's **1** it is of type **A** and **0** being **B**"
   ]
  },
  {
   "cell_type": "markdown",
   "metadata": {},
   "source": [
    "So our approach according to how we solved the linear regression problem is that we have a cost function and we try to minimize it. "
   ]
  },
  {
   "cell_type": "markdown",
   "metadata": {},
   "source": [
    "We can have our cost function as the euclidean distance between our hypothesis and the actual value but this will give rise to a non-convex graph.\n",
    "\n",
    "In a non-convex graph there are lots of local minimas, and there is a strong possibility of our gradient descent getting stuck at a local minima rather than converging at the global minima. **Therefore we need another cost function**."
   ]
  },
  {
   "cell_type": "markdown",
   "metadata": {
    "collapsed": true
   },
   "source": [
    "### Likelihood functions:"
   ]
  },
  {
   "cell_type": "markdown",
   "metadata": {},
   "source": [
    "In case of logistic regression we use the function which basically mimics the probability of our feature set having probability 1\n",
    "\n",
    "$$ z = \\theta\\cdot x $$\n",
    "\n",
    "$$ h_{\\theta}(x) = \\frac{1}{(1+e^{-z})}$$"
   ]
  },
  {
   "cell_type": "markdown",
   "metadata": {},
   "source": [
    "Let us calculate the derivative of this function\n",
    "\n",
    "$$ h_{\\theta}'(x) = \\frac{d}{dz} 1/(1+e^{-z})$$"
   ]
  },
  {
   "cell_type": "markdown",
   "metadata": {},
   "source": [
    "$$ = \\frac{e^{-z}}{(1 + e^{-z})^2} $$"
   ]
  },
  {
   "cell_type": "markdown",
   "metadata": {},
   "source": [
    "$$ = \\frac{1}{1+e^{-z}} . \\Bigg(1-\\frac{1}{1+e^{-z}}\\Bigg)$$"
   ]
  },
  {
   "cell_type": "markdown",
   "metadata": {},
   "source": [
    "$$ = h_{\\theta}(x).(1-h_{\\theta}(x)) $$"
   ]
  },
  {
   "cell_type": "markdown",
   "metadata": {},
   "source": [
    "Now since our hypothesis function is the probability of out output being 1\n",
    "\n",
    "$$ P(y=1|x;\\theta) = h_{\\theta}(x)$$\n",
    "$$ P(y=0 | x;\\theta) = 1-h_{\\theta}(x)$$"
   ]
  },
  {
   "cell_type": "markdown",
   "metadata": {},
   "source": [
    "Our likelihood function is:\n",
    "\n",
    "$$ L(\\theta) = \\prod\\limits_{i=1}^{m} a_{i}"
   ]
  },
  {
   "cell_type": "code",
   "execution_count": null,
   "metadata": {
    "collapsed": true
   },
   "outputs": [],
   "source": []
  }
 ],
 "metadata": {
  "kernelspec": {
   "display_name": "Python 2",
   "language": "python",
   "name": "python2"
  },
  "language_info": {
   "codemirror_mode": {
    "name": "ipython",
    "version": 2
   },
   "file_extension": ".py",
   "mimetype": "text/x-python",
   "name": "python",
   "nbconvert_exporter": "python",
   "pygments_lexer": "ipython2",
   "version": "2.7.13"
  }
 },
 "nbformat": 4,
 "nbformat_minor": 2
}
