{
 "cells": [
  {
   "cell_type": "markdown",
   "metadata": {},
   "source": [
    "# Back Propagation"
   ]
  },
  {
   "cell_type": "markdown",
   "metadata": {},
   "source": [
    "Lets first define the cost function that we will be working with:\n",
    "\n",
    "$$ C = \\frac{1}{2m}\\sum_{i=1}^{m}||y(x) - a^{L}(x)||^{2} $$\n",
    "\n",
    "Where,\n",
    "\n",
    "$L$ -> number of layers in the network\n",
    "\n",
    "$y(x)$ -> actual output of the network for input $x$\n",
    "\n",
    "$a^{L}(x)$ -> the produced output of our network\n",
    "\n",
    "$m$ -> number of training examples\n"
   ]
  },
  {
   "cell_type": "markdown",
   "metadata": {},
   "source": [
    "This is the entire cost function.\n",
    "\n",
    "Now there are two assumption that are to be made:\n",
    "\n",
    "1) If the cost function of each layer is $C_{x}$, the\n",
    "$$ C = \\frac{1}{m}\\sum_{i=1}^{m}C_{x} $$\n"
   ]
  },
  {
   "cell_type": "markdown",
   "metadata": {},
   "source": [
    "### The four fundamental equations of Back Propagation"
   ]
  },
  {
   "cell_type": "markdown",
   "metadata": {},
   "source": [
    "Backpropagation helps us understand the changes in the cost function w.r.t changes in any of the weights or biases"
   ]
  },
  {
   "cell_type": "markdown",
   "metadata": {},
   "source": [
    "Therefore $\\large\\frac{\\partial{C}}{\\partial{w^{l}_{jk}}}$ and $\\large\\frac{\\partial{C}}{\\partial{b^{l}_{j}}}$ are basically how the cost function has changed with respect to ${w^{l}_{jk}}$ and ${b^{l}_{j}}$\n",
    "\n",
    "Where\n",
    "\n",
    "${w^{l}_{jk}}$ -> weight from $k$ node in previous layer to $j$ node in layer $l$\n",
    "\n",
    "${b^{l}_{j}}$ -> bias for node $j$ in layer $l$"
   ]
  },
  {
   "cell_type": "markdown",
   "metadata": {},
   "source": [
    "Let us say that the input to a node $j$ in layer $l$ has an input of $z_{j}^{l}$\n",
    "\n",
    "Now ** instead of measuring the error in the outputs of the node, we say that the input has a $\\delta^{l}_{j}$ error which causes the error in the output node $j$ of layer $l$**."
   ]
  },
  {
   "cell_type": "markdown",
   "metadata": {},
   "source": [
    "Therefore we can say that\n",
    "$$\\delta_{j}^{l} = \\frac{\\partial{C}}{\\partial{z^{l}_{J}}}$$\n",
    "\n",
    "whichc means that the error from node $j$ in layer $l$ is because of the error in the input node whose input is ${z^{l}_{J}}$\n",
    "\n",
    "Our main aim is to express $\\delta_{j}^{l}$ in terms of $\\large\\frac{\\partial{C}}{\\partial{w^{l}_{jk}}}$ and $\\large\\frac{\\partial{C}}{\\partial{b^{l}_{j}}}$"
   ]
  }
 ],
 "metadata": {
  "kernelspec": {
   "display_name": "Python 2",
   "language": "python",
   "name": "python2"
  },
  "language_info": {
   "codemirror_mode": {
    "name": "ipython",
    "version": 2
   },
   "file_extension": ".py",
   "mimetype": "text/x-python",
   "name": "python",
   "nbconvert_exporter": "python",
   "pygments_lexer": "ipython2",
   "version": "2.7.13"
  }
 },
 "nbformat": 4,
 "nbformat_minor": 2
}
