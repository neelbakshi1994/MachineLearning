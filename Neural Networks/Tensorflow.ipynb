{
 "cells": [
  {
   "cell_type": "code",
   "execution_count": 1,
   "metadata": {
    "collapsed": true
   },
   "outputs": [],
   "source": [
    "import tensorflow as tf"
   ]
  },
  {
   "cell_type": "code",
   "execution_count": 2,
   "metadata": {},
   "outputs": [
    {
     "name": "stdout",
     "output_type": "stream",
     "text": [
      "Extracting /Users/neelbakshi/Documents/Machine Learning/Datasets/MNIST/train-images-idx3-ubyte.gz\n",
      "Extracting /Users/neelbakshi/Documents/Machine Learning/Datasets/MNIST/train-labels-idx1-ubyte.gz\n",
      "Extracting /Users/neelbakshi/Documents/Machine Learning/Datasets/MNIST/t10k-images-idx3-ubyte.gz\n",
      "Extracting /Users/neelbakshi/Documents/Machine Learning/Datasets/MNIST/t10k-labels-idx1-ubyte.gz\n"
     ]
    }
   ],
   "source": [
    "from tensorflow.examples.tutorials.mnist import input_data\n",
    "mnist = input_data.read_data_sets(\"/Users/neelbakshi/Documents/Machine Learning/Datasets/MNIST\", one_hot = True)"
   ]
  },
  {
   "cell_type": "code",
   "execution_count": 61,
   "metadata": {
    "collapsed": true
   },
   "outputs": [],
   "source": [
    "class Network:\n",
    "    \n",
    "    def __init__(self, structure, input_placeholder, output_placeholder):\n",
    "        self.structure = structure\n",
    "        self.input_placeholder = input_placeholder\n",
    "        self.output_placeholder = output_placeholder\n",
    "        layers = []\n",
    "        for current_nodes, previous_nodes in zip(self.structure[1:], self.structure[:-1]):\n",
    "            weights = tf.Variable(tf.random_normal([previous_nodes, current_nodes]))\n",
    "            biases = tf.Variable(tf.random_normal([current_nodes]))\n",
    "            layers.append({'weights': weights, 'biases': biases})\n",
    "            \n",
    "        layer_output = self.input_placeholder\n",
    "        for layer in layers[:-1]:\n",
    "            layer_output = tf.add(tf.matmul(layer_output, layer['weights']), layer['biases'])\n",
    "            layer_output = tf.nn.relu(layer_output)\n",
    "        self.final_output = tf.add(tf.matmul(layer_output, layers[-1]['weights']), layers[-1]['biases'])\n",
    "        self.cost = tf.reduce_mean(tf.nn.softmax_cross_entropy_with_logits(labels=self.output_placeholder, logits=self.final_output))\n",
    "        self.optimizer = tf.train.AdamOptimizer().minimize(self.cost)\n",
    "        \n",
    "    def fit(self, input_data, epochs, batch_size):\n",
    "        \n",
    "        with tf.Session() as sess:\n",
    "            sess.run(tf.global_variables_initializer())\n",
    "            for epoch in xrange(epochs):\n",
    "                epoch_loss = 0\n",
    "                for _ in range(int(input_data.train.num_examples/batch_size)):\n",
    "                    epoch_x, epoch_y = input_data.train.next_batch(batch_size)\n",
    "                    c, _ = sess.run([self.cost, self.optimizer], feed_dict={self.input_placeholder:epoch_x, self.output_placeholder:epoch_y})\n",
    "                    epoch_loss += c\n",
    "                print('Epoch', epoch, 'completed out of',epochs,'loss:',epoch_loss)\n",
    "            \n",
    "            correct = tf.equal(tf.argmax(self.final_output, 1), tf.argmax(self.output_placeholder, 1))\n",
    "\n",
    "            accuracy = tf.reduce_mean(tf.cast(correct, 'float'))\n",
    "            print('Accuracy:',accuracy.eval({self.input_placeholder:input_data.test.images, self.output_placeholder:input_data.test.labels}))\n",
    "                \n",
    "        \n",
    "    "
   ]
  },
  {
   "cell_type": "code",
   "execution_count": 62,
   "metadata": {
    "scrolled": true
   },
   "outputs": [],
   "source": [
    "network = Network([784, 500, 300, 200, 10], tf.placeholder('float', [None, 784]), tf.placeholder('float'))"
   ]
  },
  {
   "cell_type": "code",
   "execution_count": 63,
   "metadata": {},
   "outputs": [
    {
     "name": "stdout",
     "output_type": "stream",
     "text": [
      "('Epoch', 0, 'completed out of', 10, 'loss:', 638600.17395019531)\n",
      "('Epoch', 1, 'completed out of', 10, 'loss:', 161408.22003173828)\n",
      "('Epoch', 2, 'completed out of', 10, 'loss:', 100201.6109085083)\n",
      "('Epoch', 3, 'completed out of', 10, 'loss:', 68701.049884796143)\n",
      "('Epoch', 4, 'completed out of', 10, 'loss:', 48650.026763916016)\n",
      "('Epoch', 5, 'completed out of', 10, 'loss:', 35658.974186897278)\n",
      "('Epoch', 6, 'completed out of', 10, 'loss:', 25155.305115699768)\n",
      "('Epoch', 7, 'completed out of', 10, 'loss:', 18822.050055503845)\n",
      "('Epoch', 8, 'completed out of', 10, 'loss:', 13038.374998092651)\n",
      "('Epoch', 9, 'completed out of', 10, 'loss:', 8977.2361810058355)\n",
      "('Accuracy:', 0.93300003)\n"
     ]
    }
   ],
   "source": [
    "network.fit(mnist, 10, 200)"
   ]
  }
 ],
 "metadata": {
  "kernelspec": {
   "display_name": "Python 2",
   "language": "python",
   "name": "python2"
  },
  "language_info": {
   "codemirror_mode": {
    "name": "ipython",
    "version": 2
   },
   "file_extension": ".py",
   "mimetype": "text/x-python",
   "name": "python",
   "nbconvert_exporter": "python",
   "pygments_lexer": "ipython2",
   "version": "2.7.13"
  }
 },
 "nbformat": 4,
 "nbformat_minor": 2
}
