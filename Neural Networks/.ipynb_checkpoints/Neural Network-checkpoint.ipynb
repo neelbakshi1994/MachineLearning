{
 "cells": [
  {
   "cell_type": "code",
   "execution_count": 3,
   "metadata": {},
   "outputs": [],
   "source": [
    "import numpy as np"
   ]
  },
  {
   "cell_type": "code",
   "execution_count": 64,
   "metadata": {},
   "outputs": [],
   "source": [
    "class Network:\n",
    "    def __init__(self, network_structure, input_matrix=np.array([]), output_matrix=np.array([])):\n",
    "        #network_structure -> [2,3,4...5], each element represents the number of nodes\n",
    "        # in the layer, and the length of the array is the number of layers\n",
    "        self.input_matrix = input_matrix\n",
    "        self.output_matrix = output_matrix\n",
    "        self.number_of_training_examples = len(input_matrix)\n",
    "        self.number_of_layers = len(network_structure)\n",
    "        self.biases = []\n",
    "        self.weights = []\n",
    "        #initial biases and weights are all zeros\n",
    "        for num_of_nodes in network_structure[1:]:\n",
    "            layer_bias = np.zeros((num_of_nodes,1))\n",
    "            self.biases.append(layer_bias)\n",
    "        self.biases = np.array(self.biases)\n",
    "        \n",
    "        for previous_layer_num_nodes, current_layer_num_nodes in zip(network_structure[:-1],network_structure[1:]):\n",
    "            layer_weights = np.zeros((current_layer_num_nodes, previous_layer_num_nodes))\n",
    "            self.weights.append(layer_weights)\n",
    "        self.weights = np.array(self.weights)\n",
    "        "
   ]
  },
  {
   "cell_type": "code",
   "execution_count": 61,
   "metadata": {},
   "outputs": [],
   "source": [
    "structure = np.array([2,4,3])\n",
    "network = Network(structure)"
   ]
  },
  {
   "cell_type": "code",
   "execution_count": 62,
   "metadata": {},
   "outputs": [
    {
     "data": {
      "text/plain": [
       "array([array([[ 0.],\n",
       "       [ 0.],\n",
       "       [ 0.],\n",
       "       [ 0.]]),\n",
       "       array([[ 0.],\n",
       "       [ 0.],\n",
       "       [ 0.]])], dtype=object)"
      ]
     },
     "execution_count": 62,
     "metadata": {},
     "output_type": "execute_result"
    }
   ],
   "source": [
    "network.biases"
   ]
  },
  {
   "cell_type": "code",
   "execution_count": 63,
   "metadata": {},
   "outputs": [
    {
     "data": {
      "text/plain": [
       "array([ array([[ 0.,  0.],\n",
       "       [ 0.,  0.],\n",
       "       [ 0.,  0.],\n",
       "       [ 0.,  0.]]),\n",
       "       array([[ 0.,  0.,  0.,  0.],\n",
       "       [ 0.,  0.,  0.,  0.],\n",
       "       [ 0.,  0.,  0.,  0.]])], dtype=object)"
      ]
     },
     "execution_count": 63,
     "metadata": {},
     "output_type": "execute_result"
    }
   ],
   "source": [
    "network.weights"
   ]
  },
  {
   "cell_type": "markdown",
   "metadata": {},
   "source": [
    "Amazing! Things are going as planned!"
   ]
  },
  {
   "cell_type": "code",
   "execution_count": 65,
   "metadata": {},
   "outputs": [],
   "source": [
    "class Network:\n",
    "    def gradient_descent(self, original_value, learning_rate, gradient):\n",
    "        #this function returns the new value after gradient descent\n",
    "        return (original_value - learning_rate*gradient/self.number_of_training_examples)\n",
    "    \n",
    "    def sigmoid(self, z):\n",
    "        return 1/(1+np.exp(-z))\n",
    "    \n",
    "    def sigmoid_prime(self, z):\n",
    "        return sigmoid*(1-sigmoid)\n",
    "    \n",
    "    def layer_output(self, input_matrix, layer):\n",
    "        layer_weights = self.weights[layer]\n",
    "        layer_biases = self.biases[layer]\n",
    "        z = []\n",
    "        output_matrix = []\n",
    "        for node_weights, node_bias in (layer_weights,layer_biases):\n",
    "            z = np.dot(node_weights, input_matrix) + node_bias\n",
    "            output_matrix.append(sigmoid(z))\n",
    "        return (np.array(z), np.array(output_matrix))\n",
    "    \n",
    "    def cost_function_derivative(self, predicted_output):\n",
    "        return (predicted_output - self.output_matrix)\n",
    "    \n",
    "    def back_propagation(self, input_matrix, output_matrix):\n",
    "        current_input = np.array(input_matrix)\n",
    "        zs = []\n",
    "        activations = [current_input]\n",
    "        #Here we have feeded the input matrix into the network, computed all the activation values\n",
    "        for layer in xrange(1, self.number_of_layers):\n",
    "            (z, output) = layer_output(current_input, layer)\n",
    "            activations.append(output)\n",
    "            zs.append(z)\n",
    "            current_input = output\n",
    "        #Now lets calulate the delta of the final layer\n",
    "        delta = cost_function_derivative(activations[-1], output_matrix) * sigmoid_prime(zs[-1])\n",
    "        \n",
    "    "
   ]
  }
 ],
 "metadata": {
  "kernelspec": {
   "display_name": "Python 2",
   "language": "python",
   "name": "python2"
  },
  "language_info": {
   "codemirror_mode": {
    "name": "ipython",
    "version": 2
   },
   "file_extension": ".py",
   "mimetype": "text/x-python",
   "name": "python",
   "nbconvert_exporter": "python",
   "pygments_lexer": "ipython2",
   "version": "2.7.13"
  }
 },
 "nbformat": 4,
 "nbformat_minor": 2
}
