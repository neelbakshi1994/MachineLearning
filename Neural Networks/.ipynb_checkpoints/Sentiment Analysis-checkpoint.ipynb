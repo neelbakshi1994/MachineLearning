{
 "cells": [
  {
   "cell_type": "code",
   "execution_count": 7,
   "metadata": {
    "collapsed": true
   },
   "outputs": [],
   "source": [
    "import nltk\n",
    "from nltk.tokenize import word_tokenize\n",
    "from nltk.stem import WordNetLemmatizer\n",
    "import numpy as np\n",
    "import random\n",
    "from collections import Counter\n",
    "import pickle\n",
    "import sys\n",
    "import tensorflow as tf\n",
    "stdout = sys.stdout \n",
    "reload(sys)\n",
    "sys.setdefaultencoding('ISO-8859-1')\n",
    "sys.stdout = stdout"
   ]
  },
  {
   "cell_type": "code",
   "execution_count": 11,
   "metadata": {
    "collapsed": true
   },
   "outputs": [],
   "source": [
    "lemmatizer = WordNetLemmatizer()\n",
    "lines = 10000"
   ]
  },
  {
   "cell_type": "code",
   "execution_count": 20,
   "metadata": {
    "collapsed": true
   },
   "outputs": [],
   "source": [
    "def create_lexicon(pos, neg):\n",
    "    lexicon = []\n",
    "    with open(pos, 'rb') as f:\n",
    "        contents = f.readlines()\n",
    "        for line in contents[:lines]:\n",
    "            words_in_line = word_tokenize(line)\n",
    "            lexicon+=words_in_line\n",
    "        \n",
    "    with open(neg,'r') as f:\n",
    "        contents = f.readlines()\n",
    "        for line in contents[:lines]:\n",
    "            words_in_line = word_tokenize(line)\n",
    "            lexicon+=words_in_line\n",
    "            \n",
    "    lemmatized_lexicon = [lemmatizer.lemmatize(word) for word in lexicon]\n",
    "    count_dict = Counter(lemmatized_lexicon)\n",
    "    lexicon = []\n",
    "    for word in count_dict:\n",
    "        if 50 < count_dict[word] < 1000:\n",
    "            lexicon += word\n",
    "    \n",
    "    return lexicon\n",
    "\n",
    "def get_feature_set(filename, lexicon, classification):\n",
    "    feature_set = []\n",
    "    with open(filename, 'r') as f:\n",
    "        contents = f.readlines()\n",
    "        for line in contents[:lines]:\n",
    "            words = word_tokenize(line)\n",
    "            lemmatized_words = [lemmatizer.lemmatize(word.lower()) for word in words]\n",
    "            features = np.zeros(len(lexicon))\n",
    "            for word in lemmatized_words:\n",
    "                try:\n",
    "                    index_of_word = lexicon.index(word)\n",
    "                    features[index_of_word] += 1\n",
    "                except:\n",
    "                    pass\n",
    "        \n",
    "            feature_set.append((features, classification))\n",
    "        return feature_set\n",
    "    \n",
    "def create_input_data(pos_file, neg_file,test_size = 0.1):\n",
    "    lexicon = create_lexicon(pos_file, neg_file)\n",
    "    features = []\n",
    "    features += get_feature_set(pos_file, lexicon, [1, 0])\n",
    "    features += get_feature_set(neg_file, lexicon, [0, 1])\n",
    "    random.shuffle(features)\n",
    "    \n",
    "    features_length = len(features)\n",
    "    testing_size = int((test_size*features_length))\n",
    "    train_data =features[:-testing_size]\n",
    "    test_data = features[-testing_size:]\n",
    "    \n",
    "    return train_data, test_data\n",
    "\n",
    "def launch():\n",
    "    train, test = create_input_data('/Users/neelbakshi/Documents/Machine Learning/Datasets/Sentiment Analysis/positive.txt', '/Users/neelbakshi/Documents/Machine Learning/Datasets/Sentiment Analysis/negative.txt')\n",
    "    return train, test\n",
    "    \n",
    "    # if you want to pickle this data:\n",
    "    with open('/Users/neelbakshi/Documents/Machine Learning/Datasets/Sentiment Analysis/sentiment_set.pickle','wb') as f:\n",
    "        pickle.dump([train, test],f)\n",
    "    "
   ]
  },
  {
   "cell_type": "code",
   "execution_count": 21,
   "metadata": {
    "collapsed": true,
    "scrolled": true
   },
   "outputs": [],
   "source": [
    "train, test = launch()"
   ]
  },
  {
   "cell_type": "code",
   "execution_count": 25,
   "metadata": {
    "collapsed": true
   },
   "outputs": [],
   "source": [
    "class Network:\n",
    "    \n",
    "    def __init__(self, structure, input_placeholder, output_placeholder):\n",
    "        self.structure = structure\n",
    "        self.input_placeholder = input_placeholder\n",
    "        self.output_placeholder = output_placeholder\n",
    "        layers = []\n",
    "        for current_nodes, previous_nodes in zip(self.structure[1:], self.structure[:-1]):\n",
    "            weights = tf.Variable(tf.random_normal([previous_nodes, current_nodes]))\n",
    "            biases = tf.Variable(tf.random_normal([current_nodes]))\n",
    "            layers.append({'weights': weights, 'biases': biases})\n",
    "            \n",
    "        layer_output = self.input_placeholder\n",
    "        for layer in layers[:-1]:\n",
    "            layer_output = tf.add(tf.matmul(layer_output, layer['weights']), layer['biases'])\n",
    "            layer_output = tf.nn.relu(layer_output)\n",
    "        self.final_output = tf.add(tf.matmul(layer_output, layers[-1]['weights']), layers[-1]['biases'])\n",
    "        self.cost = tf.reduce_mean(tf.nn.softmax_cross_entropy_with_logits(labels=self.output_placeholder, logits=self.final_output))\n",
    "        self.optimizer = tf.train.AdamOptimizer().minimize(self.cost)\n",
    "        \n",
    "    def fit(self, train_data, epochs, batch_size, test_data):\n",
    "        \n",
    "        with tf.Session() as sess:\n",
    "            sess.run(tf.global_variables_initializer())\n",
    "            for epoch in xrange(epochs):\n",
    "                epoch_loss = 0\n",
    "                for batch_no in range(int(len(train_data)/batch_size)):\n",
    "                    epoch_data = train_data[(batch_no*len(train_data)):((batch_no + 1)*len(train_data))]\n",
    "                    epoch_x = [x[0] for x in train_data]\n",
    "                    epoch_y = [y[1] for y in train_data]\n",
    "                    c, _ = sess.run([self.cost, self.optimizer], feed_dict={self.input_placeholder:epoch_x, self.output_placeholder:epoch_y})\n",
    "                    epoch_loss += c\n",
    "                print('Epoch', epoch, 'completed out of',epochs,'loss:',epoch_loss)\n",
    "            \n",
    "            correct = tf.equal(tf.argmax(self.final_output, 1), tf.argmax(self.output_placeholder, 1))\n",
    "\n",
    "            accuracy = tf.reduce_mean(tf.cast(correct, 'float'))\n",
    "            input_test = [x[0] for x in test_data]\n",
    "            output_test = [y[1] for y in test_data]\n",
    "            print('Accuracy:',accuracy.eval({self.input_placeholder:input_test, self.output_placeholder:output_test}))\n",
    "            \n",
    "            "
   ]
  },
  {
   "cell_type": "code",
   "execution_count": 26,
   "metadata": {
    "collapsed": true
   },
   "outputs": [],
   "source": [
    "network = Network([2121, 500, 500, 500, 2], tf.placeholder('float'), tf.placeholder('float'))"
   ]
  },
  {
   "cell_type": "code",
   "execution_count": 27,
   "metadata": {},
   "outputs": [
    {
     "name": "stdout",
     "output_type": "stream",
     "text": [
      "('Epoch', 0, 'completed out of', 10, 'loss:', 54801.202270507812)\n",
      "('Epoch', 1, 'completed out of', 10, 'loss:', 6011.5266151428223)\n",
      "('Epoch', 2, 'completed out of', 10, 'loss:', 3653.9004058837891)\n",
      "('Epoch', 3, 'completed out of', 10, 'loss:', 4166.8995018005371)\n",
      "('Epoch', 4, 'completed out of', 10, 'loss:', 3682.6616916656494)\n",
      "('Epoch', 5, 'completed out of', 10, 'loss:', 4110.1790237426758)\n",
      "('Epoch', 6, 'completed out of', 10, 'loss:', 5697.7448253631592)\n",
      "('Epoch', 7, 'completed out of', 10, 'loss:', 4722.0098934173584)\n",
      "('Epoch', 8, 'completed out of', 10, 'loss:', 4035.6975059509277)\n",
      "('Epoch', 9, 'completed out of', 10, 'loss:', 4200.2036819458008)\n"
     ]
    },
    {
     "ename": "NameError",
     "evalue": "global name 'input_data' is not defined",
     "output_type": "error",
     "traceback": [
      "\u001b[0;31m---------------------------------------------------------------------------\u001b[0m",
      "\u001b[0;31mNameError\u001b[0m                                 Traceback (most recent call last)",
      "\u001b[0;32m<ipython-input-27-17fb7567aee1>\u001b[0m in \u001b[0;36m<module>\u001b[0;34m()\u001b[0m\n\u001b[0;32m----> 1\u001b[0;31m \u001b[0mnetwork\u001b[0m\u001b[0;34m.\u001b[0m\u001b[0mfit\u001b[0m\u001b[0;34m(\u001b[0m\u001b[0mtrain\u001b[0m\u001b[0;34m,\u001b[0m \u001b[0;36m10\u001b[0m\u001b[0;34m,\u001b[0m \u001b[0;36m200\u001b[0m\u001b[0;34m,\u001b[0m \u001b[0mtest\u001b[0m\u001b[0;34m)\u001b[0m\u001b[0;34m\u001b[0m\u001b[0m\n\u001b[0m",
      "\u001b[0;32m<ipython-input-25-8bf66f17071b>\u001b[0m in \u001b[0;36mfit\u001b[0;34m(self, train_data, epochs, batch_size, test_data)\u001b[0m\n\u001b[1;32m     38\u001b[0m             \u001b[0minput_test\u001b[0m \u001b[0;34m=\u001b[0m \u001b[0;34m[\u001b[0m\u001b[0mx\u001b[0m\u001b[0;34m[\u001b[0m\u001b[0;36m0\u001b[0m\u001b[0;34m]\u001b[0m \u001b[0;32mfor\u001b[0m \u001b[0mx\u001b[0m \u001b[0;32min\u001b[0m \u001b[0mtest_data\u001b[0m\u001b[0;34m]\u001b[0m\u001b[0;34m\u001b[0m\u001b[0m\n\u001b[1;32m     39\u001b[0m             \u001b[0moutput_test\u001b[0m \u001b[0;34m=\u001b[0m \u001b[0;34m[\u001b[0m\u001b[0my\u001b[0m\u001b[0;34m[\u001b[0m\u001b[0;36m1\u001b[0m\u001b[0;34m]\u001b[0m \u001b[0;32mfor\u001b[0m \u001b[0my\u001b[0m \u001b[0;32min\u001b[0m \u001b[0mtest_data\u001b[0m\u001b[0;34m]\u001b[0m\u001b[0;34m\u001b[0m\u001b[0m\n\u001b[0;32m---> 40\u001b[0;31m             \u001b[0;32mprint\u001b[0m\u001b[0;34m(\u001b[0m\u001b[0;34m'Accuracy:'\u001b[0m\u001b[0;34m,\u001b[0m\u001b[0maccuracy\u001b[0m\u001b[0;34m.\u001b[0m\u001b[0meval\u001b[0m\u001b[0;34m(\u001b[0m\u001b[0;34m{\u001b[0m\u001b[0mself\u001b[0m\u001b[0;34m.\u001b[0m\u001b[0minput_placeholder\u001b[0m\u001b[0;34m:\u001b[0m\u001b[0minput_data\u001b[0m\u001b[0;34m.\u001b[0m\u001b[0mtest\u001b[0m\u001b[0;34m.\u001b[0m\u001b[0mimages\u001b[0m\u001b[0;34m,\u001b[0m \u001b[0mself\u001b[0m\u001b[0;34m.\u001b[0m\u001b[0moutput_placeholder\u001b[0m\u001b[0;34m:\u001b[0m\u001b[0minput_data\u001b[0m\u001b[0;34m.\u001b[0m\u001b[0mtest\u001b[0m\u001b[0;34m.\u001b[0m\u001b[0mlabels\u001b[0m\u001b[0;34m}\u001b[0m\u001b[0;34m)\u001b[0m\u001b[0;34m)\u001b[0m\u001b[0;34m\u001b[0m\u001b[0m\n\u001b[0m",
      "\u001b[0;31mNameError\u001b[0m: global name 'input_data' is not defined"
     ]
    }
   ],
   "source": [
    "network.fit(train, 10, 200, test)"
   ]
  },
  {
   "cell_type": "code",
   "execution_count": null,
   "metadata": {
    "collapsed": true
   },
   "outputs": [],
   "source": []
  },
  {
   "cell_type": "code",
   "execution_count": null,
   "metadata": {
    "collapsed": true
   },
   "outputs": [],
   "source": []
  }
 ],
 "metadata": {
  "kernelspec": {
   "display_name": "Python 2",
   "language": "python",
   "name": "python2"
  },
  "language_info": {
   "codemirror_mode": {
    "name": "ipython",
    "version": 2
   },
   "file_extension": ".py",
   "mimetype": "text/x-python",
   "name": "python",
   "nbconvert_exporter": "python",
   "pygments_lexer": "ipython2",
   "version": "2.7.13"
  }
 },
 "nbformat": 4,
 "nbformat_minor": 2
}
