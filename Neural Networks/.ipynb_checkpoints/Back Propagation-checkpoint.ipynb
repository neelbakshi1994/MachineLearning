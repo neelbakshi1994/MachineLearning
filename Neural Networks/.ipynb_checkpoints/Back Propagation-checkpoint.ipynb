{
 "cells": [
  {
   "cell_type": "markdown",
   "metadata": {},
   "source": [
    "# Back Propagation"
   ]
  },
  {
   "cell_type": "markdown",
   "metadata": {},
   "source": [
    "Lets first define the cost function that we will be working with:\n",
    "\n",
    "$$ C = \\frac{1}{2m}\\sum_{i=1}^{m}||y(x_{i}) - a^{L}(x_{i})||^{2} $$\n",
    "\n",
    "Where,\n",
    "\n",
    "$L$ -> number of layers in the network\n",
    "\n",
    "$y(x)$ -> actual output of the network for input $x$\n",
    "\n",
    "$a^{L}(x)$ -> the produced output of our network\n",
    "\n",
    "$m$ -> number of training examples\n"
   ]
  },
  {
   "cell_type": "code",
   "execution_count": null,
   "metadata": {
    "collapsed": true
   },
   "outputs": [],
   "source": []
  },
  {
   "cell_type": "markdown",
   "metadata": {},
   "source": [
    "This is the entire cost function.\n",
    "\n",
    "Now there are two assumption that are to be made:\n",
    "\n",
    "1) If the cost function of each layer is $C_{x}$, the\n",
    "$$ C = \\frac{1}{m}\\sum_{i=1}^{m}C_{x} $$\n",
    "\n",
    "2) The cost function of each layer\n",
    "$$ C_x = \\frac{1}{2} \\|y-a^L \\|^2$$"
   ]
  },
  {
   "cell_type": "markdown",
   "metadata": {},
   "source": [
    "### The four fundamental equations of Back Propagation"
   ]
  },
  {
   "cell_type": "markdown",
   "metadata": {},
   "source": [
    "Backpropagation helps us understand the changes in the cost function w.r.t changes in any of the weights or biases"
   ]
  },
  {
   "cell_type": "markdown",
   "metadata": {},
   "source": [
    "Therefore $\\large\\frac{\\partial{C}}{\\partial{w^{l}_{jk}}}$ and $\\large\\frac{\\partial{C}}{\\partial{b^{l}_{j}}}$ are basically how the cost function has changed with respect to ${w^{l}_{jk}}$ and ${b^{l}_{j}}$\n",
    "\n",
    "Where\n",
    "\n",
    "${w^{l}_{jk}}$ -> weight from $k$ node in previous layer to $j$ node in layer $l$\n",
    "\n",
    "${b^{l}_{j}}$ -> bias for node $j$ in layer $l$"
   ]
  },
  {
   "cell_type": "markdown",
   "metadata": {},
   "source": [
    "Let us say that the input to a node $j$ in layer $l$ has an input of $z_{j}^{l}$\n",
    "\n",
    "Now ** instead of measuring the error in the outputs of the node, we say that the input has a $\\delta^{l}_{j}$ error which causes the error in the output node $j$ of layer $l$**."
   ]
  },
  {
   "cell_type": "markdown",
   "metadata": {},
   "source": [
    "Therefore we can say that\n",
    "$$\\delta_{j}^{l} = \\frac{\\partial{C}}{\\partial{z^{l}_{l}}}$$\n",
    "\n",
    "which means that the error from node $j$ in layer $l$ is because of the error in the input node whose input is ${z^{l}_{J}}$\n",
    "\n",
    "Our main aim is to express $\\delta_{j}^{l}$ in terms of $\\large\\frac{\\partial{C}}{\\partial{w^{l}_{jk}}}$ and $\\large\\frac{\\partial{C}}{\\partial{b^{l}_{j}}}$"
   ]
  },
  {
   "cell_type": "markdown",
   "metadata": {},
   "source": [
    "Lets expand on this $\\delta^{L}_{j}$"
   ]
  },
  {
   "cell_type": "markdown",
   "metadata": {},
   "source": [
    "$$\\delta^L_j = \\frac{\\partial{C}}{\\partial{z^{L}_{j}}} = \\frac{\\partial C}{\\partial a^L_j} \\sigma'(z^L_j)$$\n",
    "$\\delta^L_j$ -> the error of the output layer\n",
    "\n",
    "$\\large\\frac{\\partial C}{\\partial a^L_j}$ -> The rate at which the cost function changes w.r.t change in the output of the $j^{th}$ node of the final layer $l$\n",
    "\n",
    "$\\sigma'(z^L_j)$ -> The rate at which the activation function output is changing w.r.t change in input $z^L_j$\n"
   ]
  },
  {
   "cell_type": "markdown",
   "metadata": {},
   "source": [
    "Check this link for the derivations:\n",
    "\n",
    "http://neuralnetworksanddeeplearning.com/chap2.html"
   ]
  },
  {
   "cell_type": "markdown",
   "metadata": {},
   "source": [
    "So we come to the conclusion that:\n",
    "\n",
    "1) $$\\frac{\\partial C}{\\partial b^l_j} =\n",
    "  \\delta^l_j$$"
   ]
  },
  {
   "cell_type": "markdown",
   "metadata": {},
   "source": [
    "2) $$\\frac{\\partial C}{\\partial w^l_{jk}} = a^{l-1}_k \\delta^l_j$$"
   ]
  },
  {
   "cell_type": "markdown",
   "metadata": {},
   "source": [
    "1) Input a set of training examples\n",
    "\n",
    "2) **For each training example xx:**\n",
    "Set the corresponding input activation $a^{x,1}$, and perform the following steps:\n",
    "\n",
    "**Feedforward:** For each $l=2,3,…,Ll=2,3,…,L$ compute $z^{x,l} = w^l a^{x,l-1}+b^l$ and $a^{x,l} = \\sigma(z^{x,l})$.\n",
    "\n",
    "**Output error $\\delta^{x,L}$:** Compute the vector $$\\delta^{x,L} = \\nabla_a C_x \\odot \\sigma'(z^{x,L})$$\n",
    "\n",
    "**Backpropagate the error:** For each $l = L-1, L-2, \\ldots, 2$ compute $$\\delta^{x,l} = ((w^{l+1})^T \\delta^{x,l+1})\n",
    "  \\odot \\sigma'(z^{x,l})$$\n",
    "\n",
    "\n",
    "Gradient descent: For each $l = L, L-1, \\ldots, 2$ update the weights according to the rule $\\large w^l \\rightarrow\n",
    "  w^l-\\frac{\\eta}{m} \\sum_x \\delta^{x,l} (a^{x,l-1})^T$, and the biases according to the rule $\\large b^l \\rightarrow b^l-\\frac{\\eta}{m}\n",
    "  \\sum_x \\delta^{x,l}$."
   ]
  }
 ],
 "metadata": {
  "kernelspec": {
   "display_name": "Python 2",
   "language": "python",
   "name": "python2"
  },
  "language_info": {
   "codemirror_mode": {
    "name": "ipython",
    "version": 2
   },
   "file_extension": ".py",
   "mimetype": "text/x-python",
   "name": "python",
   "nbconvert_exporter": "python",
   "pygments_lexer": "ipython2",
   "version": "2.7.13"
  }
 },
 "nbformat": 4,
 "nbformat_minor": 2
}
