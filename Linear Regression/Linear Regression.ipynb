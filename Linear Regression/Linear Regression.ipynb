{
 "cells": [
  {
   "cell_type": "code",
   "execution_count": 1,
   "metadata": {
    "collapsed": true
   },
   "outputs": [],
   "source": [
    "import numpy as np\n",
    "import matplotlib.pyplot as plt"
   ]
  },
  {
   "cell_type": "markdown",
   "metadata": {},
   "source": [
    "Let us generate some test data:"
   ]
  },
  {
   "cell_type": "code",
   "execution_count": 179,
   "metadata": {},
   "outputs": [],
   "source": [
    "x = np.arange(0,200,0.5)"
   ]
  },
  {
   "cell_type": "code",
   "execution_count": 180,
   "metadata": {},
   "outputs": [],
   "source": [
    "delta = np.random.uniform(-30,30,x.size)"
   ]
  },
  {
   "cell_type": "code",
   "execution_count": 181,
   "metadata": {},
   "outputs": [],
   "source": [
    "y = 4*x + delta"
   ]
  },
  {
   "cell_type": "markdown",
   "metadata": {},
   "source": [
    "So the initial plot is something like this:"
   ]
  },
  {
   "cell_type": "code",
   "execution_count": 182,
   "metadata": {},
   "outputs": [
    {
     "data": {
      "image/png": "[encoded data removed]",
      "text/plain": [
       "<matplotlib.figure.Figure at 0x10b8acb10>"
      ]
     },
     "metadata": {},
     "output_type": "display_data"
    }
   ],
   "source": [
    "plt.scatter(x,y,color='blue')\n",
    "plt.show()"
   ]
  },
  {
   "cell_type": "markdown",
   "metadata": {},
   "source": [
    "**Awesome!**"
   ]
  },
  {
   "cell_type": "markdown",
   "metadata": {},
   "source": [
    "Now lets start coding the linear regression problem."
   ]
  },
  {
   "cell_type": "markdown",
   "metadata": {},
   "source": [
    "First we need to pre-process our features. We have two cases:\n",
    "1. We get a 1-D vector -> [1,2,3....]\n",
    "2. We get an n-D vector -> [[1,2,3..], [3,6,5..].....]\n",
    "\n",
    "Therefore we need to convert this into a feature set which our linear regression algorithm can understand. \n",
    "And one of the criteria for it being that we also need to add the x0 parameter to the feature set."
   ]
  },
  {
   "cell_type": "code",
   "execution_count": 110,
   "metadata": {
    "collapsed": true
   },
   "outputs": [],
   "source": [
    "def convert_1d_array(features):\n",
    "    new_features = np.empty((features.shape[0],1))\n",
    "    for index, feature in enumerate(features):\n",
    "        new_features[index] = np.array([feature])\n",
    "    return new_features"
   ]
  },
  {
   "cell_type": "code",
   "execution_count": 111,
   "metadata": {
    "collapsed": true
   },
   "outputs": [],
   "source": [
    "def preprocessing(features):\n",
    "    #if we have a 1-D array of length n convert it to a (n,1) shaped array\n",
    "    if features.ndim == 1:\n",
    "        features = convert_1d_array(features)\n",
    "    \n",
    "    #now we need to append the x0(=1) parameter to the feature vectors\n",
    "    new_features = np.empty((features.shape[0],(features.shape[1]+1)))\n",
    "    for index, feature in enumerate(features):\n",
    "        new_features[index] = np.append([1],feature)\n",
    "    return new_features"
   ]
  },
  {
   "cell_type": "markdown",
   "metadata": {},
   "source": [
    "Now we have our preprocessing functions ready"
   ]
  },
  {
   "cell_type": "markdown",
   "metadata": {},
   "source": [
    "The next this we need to code is our hypothesis function. So lets do that:"
   ]
  },
  {
   "cell_type": "code",
   "execution_count": 112,
   "metadata": {
    "collapsed": true
   },
   "outputs": [],
   "source": [
    "def hypothesis(feature, theta_vector):\n",
    "    return np.sum(np.multiply(feature, theta_vector))"
   ]
  },
  {
   "cell_type": "markdown",
   "metadata": {},
   "source": [
    "Now comes the big part. We need to code up our **Gradient Descent** algorithm"
   ]
  },
  {
   "cell_type": "code",
   "execution_count": 154,
   "metadata": {},
   "outputs": [],
   "source": [
    "def gradient_descent(features, labels, theta_vector, learning_rate=0.000001):\n",
    "    no_of_training_examples = features.shape[0]\n",
    "    x_dimension = features.shape[1]\n",
    "    #print theta_vector\n",
    "    for theta_index, theta in enumerate(theta_vector):\n",
    "        learning_summation = 0.0\n",
    "        for feature_index, feature in enumerate(features):\n",
    "            x_i = feature\n",
    "            y_i = labels[feature_index]\n",
    "            learning_summation += (hypothesis(x_i,theta_vector) - y_i) * x_i[theta_index]\n",
    "            #print \"Learning Sum: \",learning_summation\n",
    "        theta = theta - learning_rate*learning_summation/no_of_training_examples\n",
    "        #print \"Theta: \", theta\n",
    "        theta_vector[theta_index] = theta\n",
    "    return theta_vector"
   ]
  },
  {
   "cell_type": "markdown",
   "metadata": {},
   "source": [
    "Voila! We have our Gradient Descent algorithm!! "
   ]
  },
  {
   "cell_type": "code",
   "execution_count": 188,
   "metadata": {},
   "outputs": [],
   "source": [
    "def fit(features, labels):\n",
    "    features = preprocessing(features)\n",
    "    r2 = 0\n",
    "    optimized_theta_vector = np.zeros(features.shape[1])\n",
    "    y_pred = np.empty(y.shape[0])\n",
    "    while r2 < 0.99:\n",
    "        optimized_theta_vector = gradient_descent(features, labels, optimized_theta_vector)\n",
    "        for index, feature in enumerate(features):\n",
    "            y_pred[index] = hypothesis(feature, optimized_theta_vector)\n",
    "        r2 = r_squared(features, labels, y_pred)\n",
    "        #print \"R2: \",r2\n",
    "    return y_pred\n",
    "\n",
    "def r_squared(features, labels, predictions):\n",
    "    no_of_training_examples = features.shape[0]\n",
    "    labels_mean = np.sum(labels)/no_of_training_examples\n",
    "    ss_total = np.sum((labels - labels_mean) ** 2)\n",
    "    ss_reg = np.sum((predictions - labels) ** 2)\n",
    "    return (1 - ss_reg/ss_total)"
   ]
  },
  {
   "cell_type": "markdown",
   "metadata": {},
   "source": [
    "Now lets see how this performs"
   ]
  },
  {
   "cell_type": "code",
   "execution_count": 189,
   "metadata": {},
   "outputs": [],
   "source": [
    "y_pred = fit(x,y)"
   ]
  },
  {
   "cell_type": "markdown",
   "metadata": {},
   "source": [
    "The above computation takes some time but it worked :D !"
   ]
  },
  {
   "cell_type": "code",
   "execution_count": 191,
   "metadata": {},
   "outputs": [
    {
     "data": {
      "image/png": "[encoded data removed]",
      "text/plain": [
       "<matplotlib.figure.Figure at 0x10b9b5450>"
      ]
     },
     "metadata": {},
     "output_type": "display_data"
    }
   ],
   "source": [
    "plt.scatter(x,y)\n",
    "plt.plot(x,y_pred, color='r')\n",
    "plt.show()"
   ]
  },
  {
   "cell_type": "markdown",
   "metadata": {},
   "source": [
    "**So here are a few learnings:**\n",
    "1. The more the number of training data you have, the better your R-squared will, so you can tweak R-squared to a very high value like 0.99 or 0.995 etc**\n",
    "eg: In this case when we had a training set of 100, we could only achieve an R-squared of 0.97, but when we increased the training set to 400, we could get a R-squared of 0.99\n",
    "2. Learning rate is important. If you see that your data is overflowing or basically not converging, it means that your gradient is not reaching the minima and is crossing it because you are taking big steps. Reduce the learning rate will help with that. But do not reduce it too much otherwise your algorithm will take a lot of time to execute.\n",
    "eg: With the training set of 100, we had to reduce learning rate from 0.01 to 0.00001"
   ]
  }
 ],
 "metadata": {
  "kernelspec": {
   "display_name": "Python 2",
   "language": "python",
   "name": "python2"
  },
  "language_info": {
   "codemirror_mode": {
    "name": "ipython",
    "version": 2
   },
   "file_extension": ".py",
   "mimetype": "text/x-python",
   "name": "python",
   "nbconvert_exporter": "python",
   "pygments_lexer": "ipython2",
   "version": "2.7.13"
  }
 },
 "nbformat": 4,
 "nbformat_minor": 2
}
