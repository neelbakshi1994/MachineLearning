{
 "cells": [
  {
   "cell_type": "code",
   "execution_count": 2,
   "metadata": {
    "collapsed": true
   },
   "outputs": [],
   "source": [
    "import numpy as np\n",
    "import matplotlib.pyplot as plt"
   ]
  },
  {
   "cell_type": "markdown",
   "metadata": {},
   "source": [
    "Let us generate some test data:"
   ]
  },
  {
   "cell_type": "code",
   "execution_count": 5,
   "metadata": {
    "collapsed": true
   },
   "outputs": [],
   "source": [
    "x = np.arange(0,100,2)"
   ]
  },
  {
   "cell_type": "code",
   "execution_count": 12,
   "metadata": {
    "collapsed": true
   },
   "outputs": [],
   "source": [
    "delta = np.random.uniform(-30,30,x.size)"
   ]
  },
  {
   "cell_type": "code",
   "execution_count": 13,
   "metadata": {
    "collapsed": true
   },
   "outputs": [],
   "source": [
    "y = 4*x + delta"
   ]
  },
  {
   "cell_type": "markdown",
   "metadata": {},
   "source": [
    "So the initial plot is something like this:"
   ]
  },
  {
   "cell_type": "code",
   "execution_count": 14,
   "metadata": {},
   "outputs": [
    {
     "data": {
      "image/png": "[encoded data removed]",
      "text/plain": [
       "<matplotlib.figure.Figure at 0x1101b7e50>"
      ]
     },
     "metadata": {},
     "output_type": "display_data"
    }
   ],
   "source": [
    "plt.scatter(x,y,color='blue')\n",
    "plt.show()"
   ]
  },
  {
   "cell_type": "markdown",
   "metadata": {},
   "source": [
    "**Awesome!**"
   ]
  },
  {
   "cell_type": "markdown",
   "metadata": {},
   "source": [
    "Now lets start coding the linear regression problem."
   ]
  },
  {
   "cell_type": "markdown",
   "metadata": {},
   "source": [
    "First we need to pre-process our features. We have two cases:\n",
    "1. We get a 1-D vector -> [1,2,3....]\n",
    "2. We get an n-D vector -> [[1,2,3..], [3,6,5..].....]\n",
    "\n",
    "Therefore we need to convert this into a feature set which our linear regression algorithm can understand. \n",
    "And one of the criteria for it being that we also need to add the x0 parameter to the feature set."
   ]
  },
  {
   "cell_type": "code",
   "execution_count": 16,
   "metadata": {
    "collapsed": true
   },
   "outputs": [],
   "source": [
    "def convert_1d_array(features):\n",
    "    new_features = np.empty((features.shape[0],1))\n",
    "    for index, feature in enumerate(features):\n",
    "        new_features[index] = np.array([feature])\n",
    "    return new_features"
   ]
  },
  {
   "cell_type": "code",
   "execution_count": 17,
   "metadata": {
    "collapsed": true
   },
   "outputs": [],
   "source": [
    "def preprocessing(features):\n",
    "    #if we have a 1-D array of length n convert it to a (n,1) shaped array\n",
    "    if features.ndim == 1:\n",
    "        features = convert_1d_array(features)\n",
    "    \n",
    "    #now we need to append the x0(=1) parameter to the feature vectors\n",
    "    new_features = np.empty((features.shape[0],(features.shape[1]+1)))\n",
    "    for index, feature in enumerate(features):\n",
    "        new_features[index] = np.append([1],feature)\n",
    "    return new_features"
   ]
  },
  {
   "cell_type": "markdown",
   "metadata": {},
   "source": [
    "Now we have our preprocessing functions ready"
   ]
  },
  {
   "cell_type": "markdown",
   "metadata": {},
   "source": [
    "The next this we need to code is our hypothesis function. So lets do that:"
   ]
  },
  {
   "cell_type": "code",
   "execution_count": 18,
   "metadata": {
    "collapsed": true
   },
   "outputs": [],
   "source": [
    "def hypothesis(feature, theta_vector):\n",
    "    return np.sum(np.multiply(feature, theta_vector))"
   ]
  },
  {
   "cell_type": "markdown",
   "metadata": {},
   "source": [
    "Now comes the big part. We need to code up our **Gradient Descent** algorithm"
   ]
  },
  {
   "cell_type": "code",
   "execution_count": 21,
   "metadata": {
    "collapsed": true
   },
   "outputs": [],
   "source": [
    "def gradient_descent(features, labels, learning_rate=0.01, iterations=10000):\n",
    "    no_of_training_examples = features.shape[0]\n",
    "    x_dimension = features.shape[1]\n",
    "    # First we initialize theta_vector with zero\n",
    "    theta_vector = np.zeros(x_dimension)\n",
    "    for i in range(0, iterations):\n",
    "        for theta_index, theta in enumerate(theta_vector):\n",
    "            for feature_index, feature in enumerate(features):\n",
    "                x_i = feature\n",
    "                y_i = labels[feature_index]\n",
    "                theta = theta - learning_rate*(np.sum((hypothesis((x_i, theta_vector)-y_i))*x_i[theta_index])/(no_of_training_examples)\n",
    "                theta_vector[theta_index] = theta\n",
    "    return theta_vector"
   ]
  },
  {
   "cell_type": "markdown",
   "metadata": {},
   "source": [
    "Voila! We have our Gradient Descent algorithm!! "
   ]
  },
  {
   "cell_type": "code",
   "execution_count": 22,
   "metadata": {
    "collapsed": true
   },
   "outputs": [],
   "source": [
    "def fit(features, labels):\n",
    "    features = preprocessing(features)\n",
    "    optimized_theta_vector = gradient_descent(features, labels)\n",
    "    y_pred = np.empty(y.shape[0])\n",
    "    for index, feature in enumerate(features):\n",
    "        y_pred[index] = hypothesis(feature, optimized_theta_vector)\n",
    "    return y_pred"
   ]
  },
  {
   "cell_type": "markdown",
   "metadata": {},
   "source": [
    "Now lets see how this performs"
   ]
  },
  {
   "cell_type": "code",
   "execution_count": 23,
   "metadata": {
    "collapsed": true
   },
   "outputs": [],
   "source": [
    "y_pred = fit(x,y)"
   ]
  },
  {
   "cell_type": "markdown",
   "metadata": {},
   "source": [
    "The above computation takes some time but it worked :D !"
   ]
  },
  {
   "cell_type": "code",
   "execution_count": 25,
   "metadata": {},
   "outputs": [
    {
     "data": {
      "image/png": "[encoded data removed]",
      "text/plain": [
       "<matplotlib.figure.Figure at 0x110315fd0>"
      ]
     },
     "metadata": {},
     "output_type": "display_data"
    }
   ],
   "source": [
    "plt.scatter(x,y)\n",
    "plt.plot(x,y_pred, color='r')\n",
    "plt.show()"
   ]
  }
 ],
 "metadata": {
  "kernelspec": {
   "display_name": "Python 2",
   "language": "python",
   "name": "python2"
  },
  "language_info": {
   "codemirror_mode": {
    "name": "ipython",
    "version": 2
   },
   "file_extension": ".py",
   "mimetype": "text/x-python",
   "name": "python",
   "nbconvert_exporter": "python",
   "pygments_lexer": "ipython2",
   "version": "2.7.13"
  }
 },
 "nbformat": 4,
 "nbformat_minor": 2
}
